{
 "cells": [
  {
   "cell_type": "code",
   "execution_count": 38,
   "metadata": {},
   "outputs": [
    {
     "name": "stdout",
     "output_type": "stream",
     "text": [
      "\u001b[0m\u001b[01;34mfinish\u001b[0m/            get1111Soft.ipynb   \u001b[01;34mpractise\u001b[0m/\r\n",
      "get104ByApi.ipynb  GetAnyWord.ipynb    README.md\r\n",
      "Get104Soft.ipynb   getyes123all.ipynb  \u001b[01;34mteachersample\u001b[0m/\r\n"
     ]
    }
   ],
   "source": [
    "ls jupyter"
   ]
  },
  {
   "cell_type": "code",
   "execution_count": 124,
   "metadata": {},
   "outputs": [
    {
     "name": "stdout",
     "output_type": "stream",
     "text": [
      "page=56\n",
      "200\n",
      "200\n",
      "200\n",
      "200\n",
      "200\n",
      "200\n",
      "200\n",
      "200\n",
      "200\n",
      "200\n",
      "200\n",
      "200\n",
      "200\n",
      "200\n",
      "200\n",
      "200\n",
      "200\n",
      "200\n",
      "200\n",
      "200\n",
      "200\n",
      "200\n",
      "200\n",
      "200\n",
      "200\n",
      "200\n",
      "200\n",
      "200\n",
      "200\n",
      "200\n",
      "200\n",
      "200\n",
      "200\n",
      "200\n",
      "200\n",
      "200\n",
      "200\n",
      "200\n",
      "200\n",
      "200\n",
      "200\n",
      "200\n",
      "200\n",
      "200\n",
      "200\n",
      "200\n",
      "200\n",
      "200\n",
      "200\n",
      "200\n",
      "200\n",
      "200\n",
      "200\n",
      "200\n",
      "200\n"
     ]
    }
   ],
   "source": [
    "import requests\n",
    "from bs4 import BeautifulSoup as bs\n",
    "from collections import Counter\n",
    "import os\n",
    "url='https://www.518.com.tw/job-index-P-1.html?i=1&am=1&ab=2032001,2032002,&xq=1'\n",
    "res = requests.get(url)\n",
    "res.status_code\n",
    "soup=bs(res.text,\"lxml\")\n",
    "res.close\n",
    "page=int(soup.select('#linkpageTop > span > span')[0].text.split(\"/ \")[1])\n",
    "print('page='+str(page))\n",
    "if not os.path.exists('518'):\n",
    "    os.mkdir('518')\n",
    "\n",
    "for i in range(1,page):\n",
    "    url='https://www.518.com.tw/job-index-P-%s.html?i=1&am=1&ab=2032001,2032002,&xq=1'%i\n",
    "    res = requests.get(url)\n",
    "    print(res.status_code)\n",
    "    if res.status_code!=200:\n",
    "        break\n",
    "    soup=bs(res.text,'lxml')\n",
    "    res.close\n",
    "    all=soup.select(\"#listContent > ul > li.title > a\")\n",
    "    links=[job['href'] for job in all if 'casepage' not in job['href']]\n",
    "    \n",
    "    \n",
    "    for link in links:\n",
    "#         print(link)\n",
    "#         print(\"==\"*50)\n",
    "        if not os.path.exists('./518/'+link.split('job-')[1].split('.ht')[0]):\n",
    "            with open('./518/'+link.split('job-')[1].split('.ht')[0],'w') as f:\n",
    "                resj=requests.get(link)\n",
    "                f.write(resj.text)\n",
    "                resj.close\n",
    "\n"
   ]
  },
  {
   "cell_type": "code",
   "execution_count": 127,
   "metadata": {},
   "outputs": [
    {
     "name": "stdout",
     "output_type": "stream",
     "text": [
      "[('HTML', 179), ('Word', 172), ('Excel', 171), ('MySQL', 164), ('MS SQL', 143), ('PHP', 141), ('Java', 116), ('PowerPoint', 115)]\n"
     ]
    }
   ],
   "source": [
    "from bs4 import BeautifulSoup as bs\n",
    "from collections import Counter\n",
    "datadir='./518/'\n",
    "co=Counter()\n",
    "for filename in os.listdir(datadir):\n",
    "    with open(datadir+filename) as jobfile:\n",
    "        soup=bs(jobfile.read(),'lxml')\n",
    "        titles=soup.select('#content > div > dl > dt')\n",
    "        dds=soup.select('#content > div > dl > dd')\n",
    "        getalltext={}\n",
    "        for title,dd in zip(titles,dds):\n",
    "            getall[title.text]=dd.text\n",
    "    skills=getall['擅長工具：'].split('、')\n",
    "    for skill in skills:\n",
    "        if skill in co and skill!='不拘':\n",
    "            co[skill]+=1\n",
    "        else:\n",
    "            co[skill]=1\n",
    "#     print(co.most_common(5))\n",
    "print(co.most_common(8))\n",
    "\n",
    "# getall={}\n",
    "# with open(datadir+\"7748\") as jobfile:\n",
    "#     soup=bs(jobfile.read(),'lxml')\n",
    "#     titles=soup.select('#content > div > dl > dt')\n",
    "#     dds=soup.select('#content > div > dl > dd')\n",
    "#     getall={}\n",
    "#     for title,dd in zip(titles,dds):\n",
    "#         getall[title.text]=dd.text\n",
    "# print(getall['擅長工具：'])\n",
    "#content > div:nth-child(4) > dl > dd:nth-child(20)"
   ]
  },
  {
   "cell_type": "code",
   "execution_count": null,
   "metadata": {
    "collapsed": true
   },
   "outputs": [],
   "source": []
  }
 ],
 "metadata": {
  "kernelspec": {
   "display_name": "Python 3",
   "language": "python",
   "name": "python3"
  },
  "language_info": {
   "codemirror_mode": {
    "name": "ipython",
    "version": 3
   },
   "file_extension": ".py",
   "mimetype": "text/x-python",
   "name": "python",
   "nbconvert_exporter": "python",
   "pygments_lexer": "ipython3",
   "version": "3.6.1"
  }
 },
 "nbformat": 4,
 "nbformat_minor": 2
}
