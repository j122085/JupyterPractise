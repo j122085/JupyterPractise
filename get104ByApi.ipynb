{
 "cells": [
  {
   "cell_type": "code",
   "execution_count": 1,
   "metadata": {},
   "outputs": [
    {
     "name": "stdout",
     "output_type": "stream",
     "text": [
      "[('C++', 529), ('JavaScript', 484), ('Java', 455), ('C#', 430), ('HTML', 388), ('Visual', 362), ('jQuery', 349), ('SQL', 345), ('Linux', 344), ('MS', 336), ('Windows', 324), ('C', 314), ('MySQL', 297), ('PHP', 254), ('ASP.NET', 248), ('Excel', 242), ('Word', 234), ('PowerPoint', 191), ('AJAX', 187), ('Oracle', 152), ('Android', 145), ('Outlook', 144), ('Python', 121), ('Server', 111), ('.net', 109), ('Studio', 109), ('Basic', 107), ('XML', 105), ('Objective-C', 99), ('iOS', 88)]\n"
     ]
    }
   ],
   "source": [
    "import requests\n",
    "from collections import Counter\n",
    "c=Counter()\n",
    "for i in range(1,20):\n",
    "    res=requests.get(\"http://www.104.com.tw/i/apis/jobsearch.cfm?cat=2007001000&page=%s&pgsz=200&role=0&fmt=4&cols=PCSKILL_ALL_DESC\"%i)\n",
    "    if res.status_code != 200:\n",
    "        print('%spage'%i)\n",
    "        break\n",
    "#     print(res.status_code)\n",
    "    lst = res.text.split(\"\\\"/>\\n  <ITEM PCSKILL_ALL_DESC=\\\"\")\n",
    "    del lst[0]\n",
    "    for i in lst:\n",
    "        for w in i.split():\n",
    "            if w in c:\n",
    "                c[w]+=1\n",
    "            else:\n",
    "                c[w]=1\n",
    "print(c.most_common(30))"
   ]
  },
  {
   "cell_type": "code",
   "execution_count": null,
   "metadata": {
    "collapsed": true
   },
   "outputs": [],
   "source": []
  },
  {
   "cell_type": "code",
   "execution_count": null,
   "metadata": {
    "collapsed": true
   },
   "outputs": [],
   "source": []
  }
 ],
 "metadata": {
  "kernelspec": {
   "display_name": "Python 3",
   "language": "python",
   "name": "python3"
  },
  "language_info": {
   "codemirror_mode": {
    "name": "ipython",
    "version": 3
   },
   "file_extension": ".py",
   "mimetype": "text/x-python",
   "name": "python",
   "nbconvert_exporter": "python",
   "pygments_lexer": "ipython3",
   "version": "3.6.1"
  }
 },
 "nbformat": 4,
 "nbformat_minor": 2
}
