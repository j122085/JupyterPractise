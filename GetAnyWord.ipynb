{
 "cells": [
  {
   "cell_type": "code",
   "execution_count": 3,
   "metadata": {},
   "outputs": [
    {
     "name": "stdout",
     "output_type": "stream",
     "text": [
      "please give me your file link!:\n",
      "your file is ./a.txt\n",
      "this file's language is chinese(ch) or english(en):\n",
      "\n",
      "your file's language is english\n",
      "keyin int for how many word you want to see:20\n",
      "[('ubuntu', 18), ('19', 9), ('drwxrxrx', 8), ('40K', 8), ('1446', 7), ('root', 2), ('total', 1), ('44K', 1), ('rwxrwxrwx', 1), ('27', 1), ('1008', 1), ('atxt', 1), ('Desktop', 1), ('Document', 1), ('1511', 1), ('Download', 1), ('rwrr', 1), ('88K', 1), ('1444', 1), ('examplesdesktop', 1)]\n"
     ]
    }
   ],
   "source": [
    "from collections import Counter\n",
    "import jieba\n",
    "\n",
    "\n",
    "def getwords(wc,n):\n",
    "    co=Counter()\n",
    "    with open('./Downloads/stopword.txt') as s:\n",
    "        st=s.read().split()\n",
    "    for word in wc:\n",
    "        if word[len(word)-1]=='s' or word[len(word)-2:]=='es' :\n",
    "            if word[len(word)-2]=='s' or word[len(word)-2]=='i':\n",
    "                pass\n",
    "            else:\n",
    "                word=word[:len(word)-1]        \n",
    "        if word in st:\n",
    "            pass\n",
    "        elif word in co:\n",
    "            co[word]+=1\n",
    "        else:\n",
    "            co[word]=1\n",
    "    wl=co.most_common(n)\n",
    "    return wl\n",
    "\n",
    "file=input('please give me your file link!:')\n",
    "if file==\"\":\n",
    "    file='./a.txt'\n",
    "print('your file is %s'%file)\n",
    "\n",
    "\n",
    "with open(file) as f:\n",
    "    keyin=input(\"this file's language is chinese(ch) or english(en):\").lower()\n",
    "    print(keyin)\n",
    "    if keyin=='ch' or keyin=='chinese':\n",
    "        language='chinese'\n",
    "    else:\n",
    "        language='english'\n",
    "    \n",
    "    \n",
    "    \n",
    "#     print(\"----------------------root\")\n",
    "#     print(info)\n",
    "#     print(\"----------------------root\")\n",
    "    \n",
    "    \n",
    "    \n",
    "    \n",
    "    \n",
    "    if(language == 'chinese'):\n",
    "        print(\"your file's language is chinese\")\n",
    "        info=f.read().replace(',','').replace('.','').replace(',','').\\\n",
    "        replace(';','').replace(':','').replace('/','').replace('(','').\\\n",
    "        replace(')','').replace('，','').replace('-','').replace('（','').\\\n",
    "        replace('）','').replace('、','').replace('。','').replace('\\n','').replace('–','').replace(' ','')\n",
    "\n",
    "        wc=jieba.cut(info)\n",
    "        print(wc)\n",
    "              \n",
    "    else:\n",
    "        print(\"your file's language is english\")\n",
    "        info=f.read().replace(',','').replace('.','').replace(',','').\\\n",
    "        replace(';','').replace(':','').replace('/','').replace('(','').\\\n",
    "        replace(')','').replace('，','').replace('-','')\n",
    "        wc=info.split()\n",
    "        \n",
    "        #wc is a collection of word that has been collate\n",
    "    wl=getwords(wc,int(input('keyin int for how many word you want to see:')))\n",
    "    print(wl)  \n",
    "    \n",
    "        "
   ]
  },
  {
   "cell_type": "code",
   "execution_count": 29,
   "metadata": {},
   "outputs": [
    {
     "name": "stdout",
     "output_type": "stream",
     "text": [
      "<built-in method readline of _io.TextIOWrapper object at 0x7f76e830b2d0>\n"
     ]
    }
   ],
   "source": [
    "a=open('./a.txt').readline\n",
    "print(a)"
   ]
  },
  {
   "cell_type": "code",
   "execution_count": 26,
   "metadata": {},
   "outputs": [
    {
     "name": "stdout",
     "output_type": "stream",
     "text": [
      "total 44K\r\n",
      "-rwxrwxrwx 1 root   root      0  六  27 10:08 a.txt\r\n",
      "drwxr-xr-x 2 ubuntu ubuntu 4.0K  四  19 14:46 Desktop\r\n",
      "drwxr-xr-x 2 ubuntu ubuntu 4.0K  四  19 14:46 Documents\r\n",
      "drwxr-xr-x 2 ubuntu ubuntu 4.0K  四  19 15:11 Downloads\r\n",
      "-rw-r--r-- 1 ubuntu ubuntu 8.8K  四  19 14:44 examples.desktop\r\n",
      "drwxr-xr-x 2 ubuntu ubuntu 4.0K  四  19 14:46 Music\r\n",
      "drwxr-xr-x 2 ubuntu ubuntu 4.0K  四  19 14:46 Pictures\r\n",
      "drwxr-xr-x 2 ubuntu ubuntu 4.0K  四  19 14:46 Public\r\n",
      "drwxr-xr-x 2 ubuntu ubuntu 4.0K  四  19 14:46 Templates\r\n",
      "drwxr-xr-x 2 ubuntu ubuntu 4.0K  四  19 14:46 Videos\r\n"
     ]
    }
   ],
   "source": [
    "cat ./a.txt"
   ]
  },
  {
   "cell_type": "code",
   "execution_count": 2,
   "metadata": {},
   "outputs": [
    {
     "name": "stdout",
     "output_type": "stream",
     "text": [
      "/home/ubuntu\n"
     ]
    }
   ],
   "source": [
    "cd ~"
   ]
  },
  {
   "cell_type": "code",
   "execution_count": null,
   "metadata": {
    "collapsed": true
   },
   "outputs": [],
   "source": []
  }
 ],
 "metadata": {
  "kernelspec": {
   "display_name": "Python 3",
   "language": "python",
   "name": "python3"
  },
  "language_info": {
   "codemirror_mode": {
    "name": "ipython",
    "version": 3
   },
   "file_extension": ".py",
   "mimetype": "text/x-python",
   "name": "python",
   "nbconvert_exporter": "python",
   "pygments_lexer": "ipython3",
   "version": "3.6.1"
  }
 },
 "nbformat": 4,
 "nbformat_minor": 2
}
