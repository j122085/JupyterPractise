{
 "cells": [
  {
   "cell_type": "code",
   "execution_count": 3,
   "metadata": {},
   "outputs": [
    {
     "name": "stdout",
     "output_type": "stream",
     "text": [
      "1\n",
      "[('Linux', 10), ('Java', 10), ('C', 8), ('C#', 7), ('C++', 7)]\n"
     ]
    }
   ],
   "source": [
    "from bs4 import BeautifulSoup\n",
    "from collections import Counter\n",
    "import requests\n",
    "\n",
    "need = Counter()\n",
    "trash = {'軟體程式設計','軟體工程系統開發','功能測試(function test)','網路程式設計','通訊技術發展研究','資料通訊與網路應用','安全性測試(Security test)'}\n",
    "for i in range(1,2):\n",
    "    res=requests.get('https://www.104.com.tw/jobbank/joblist/joblist.cfm?keyword=%E8%BB%9F%E9%AB%94&jobsource=n104bank1&ro=0&order=1&page='+str(i))\n",
    "    soup=BeautifulSoup(res.text,'lxml')\n",
    "    res.close\n",
    "    print(i)\n",
    "    for job in soup.select(\".job_name > a\"):\n",
    "        hr=job['href']\n",
    "        jk=hr.split('jobno=')[1].split('&jobsource')[0]\n",
    "    #         print(jk)\n",
    "        res2=requests.get('https://www.104.com.tw/job/?jobno='+jk+'&jobsource=104_hotorder')\n",
    "        soup=BeautifulSoup(res2.text,'lxml')\n",
    "        res2.close\n",
    "        \n",
    "        for goodat in soup.select('.tool'):\n",
    "            for w in goodat.select('a'):\n",
    "                if w.text in trash:\n",
    "                    pass\n",
    "                else:\n",
    "                    if w.text in need:\n",
    "                        need[w.text]+=1\n",
    "                    else:\n",
    "                        need[w.text]=1\n",
    "    print(need.most_common(5))\n",
    "\n"
   ]
  },
  {
   "cell_type": "code",
   "execution_count": 1,
   "metadata": {},
   "outputs": [],
   "source": [
    "# from bs4 import BeautifulSoup\n",
    "# from collections import Counter\n",
    "# import requests\n",
    "\n",
    "# need = Counter()\n",
    "# res=requests.get('https://www.104.com.tw/jobbank/joblist/joblist.cfm?cat=2007001004,2007001001,2007001003&jobsource=n104bank1&ro=0')\n",
    "# soup=BeautifulSoup(res.text,'lxml')\n",
    "# for job in soup.select(\".job_name > a\"):\n",
    "#     hr=job['href']\n",
    "#     print(hr)\n",
    "#     jk=hr.split('jobno=')[1].split('&jobsource')[0]\n",
    "#     print(jk)\n",
    "\n",
    "    \n",
    "#     https://www.104.com.tw/jobbank/joblist/joblist.cfm?keyword=%E8%BB%9F%E9%AB%94&jobsource=n104bank1&ro=0&order=1\n",
    "#     https://www.104.com.tw/jobbank/joblist/joblist.cfm?jobsource=n104bank1&ro=0&keyword=%E8%BB%9F%E9%AB%94&order=1&asc=0&page=15&psl=N_B"
   ]
  }
 ],
 "metadata": {
  "kernelspec": {
   "display_name": "Python 3",
   "language": "python",
   "name": "python3"
  },
  "language_info": {
   "codemirror_mode": {
    "name": "ipython",
    "version": 3
   },
   "file_extension": ".py",
   "mimetype": "text/x-python",
   "name": "python",
   "nbconvert_exporter": "python",
   "pygments_lexer": "ipython3",
   "version": "3.6.1"
  }
 },
 "nbformat": 4,
 "nbformat_minor": 2
}
