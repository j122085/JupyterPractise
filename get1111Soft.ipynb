{
 "cells": [
  {
   "cell_type": "code",
   "execution_count": 6,
   "metadata": {},
   "outputs": [
    {
     "name": "stdout",
     "output_type": "stream",
     "text": [
      "1\n",
      "[('word', 2), ('excel', 2), ('powerpoint', 2), ('outlook', 2), ('windows xp', 2), ('windows 7', 2), ('windows 8', 2), ('windows vista', 1), ('windows 10', 1), ('asp.net', 1)]\n"
     ]
    }
   ],
   "source": [
    "import requests\n",
    "from bs4 import BeautifulSoup as bs\n",
    "from collections import Counter\n",
    "co=Counter()\n",
    "for i in range(1,2):\n",
    "    print(i)\n",
    "    res=requests.get('https://www.1111.com.tw/job-bank/job-index.asp?si=1&d0=140200,140300,140400&fs=1&ps=5&page=%s'%i)\n",
    "    if res.status_code !=200:\n",
    "        break\n",
    "    soup=bs(res.text,\"lxml\")\n",
    "    res.close\n",
    "    \n",
    "    for job in soup.select(\".jbInfoin > h3 > a\"):\n",
    "        res2=requests.get('https:%s'%job['href'])\n",
    "        soup2=bs(res2.text,\"lxml\")\n",
    "        res2.close\n",
    "\n",
    "        for goodat in soup2.select('.dataList > li'):\n",
    "            if goodat.text[:5] == '電腦專長：':\n",
    "                skills=goodat.text[5:].lower().strip().split(\"、\")\n",
    "                for skill in skills:\n",
    "                    if skill in co:\n",
    "                        co[skill]+=1\n",
    "                    else:\n",
    "                        co[skill]=1\n",
    "    print(co.most_common(10))\n",
    "#             thisjoball=''.join(goodat.text.strip().replace('\\n','').split()).lower()\n",
    "#             for tool in tools:\n",
    "#                 if thisjoball.find(tool)>0:\n",
    "#                     tools[tool]+=1\n",
    "#     print(tools.most_common(8))\n",
    "# print(tools.most_common(8))"
   ]
  },
  {
   "cell_type": "code",
   "execution_count": null,
   "metadata": {
    "collapsed": true
   },
   "outputs": [],
   "source": []
  }
 ],
 "metadata": {
  "kernelspec": {
   "display_name": "Python 3",
   "language": "python",
   "name": "python3"
  }
 },
 "nbformat": 4,
 "nbformat_minor": 2
}
